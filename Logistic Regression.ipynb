{
 "cells": [
  {
   "cell_type": "markdown",
   "id": "4ee381af",
   "metadata": {},
   "source": [
    "# Problem Statement:\n",
    "Census-income data plays the most important role in the democratic system of\n",
    "government, highly affecting the economic sectors. Census-related figures are used\n",
    "to allocate federal funding by the government to different states and localities.\n",
    "Census data is also used for post census residents estimates and predictions,\n",
    "economic and social science research, and many other such applications.\n",
    "Therefore, the importance of this data and its accurate predictions is very clear to us.\n",
    "The main aim is to increase awareness about how the income factor actually has an\n",
    "impact not only on the individual lives of citizens but also an effect on the nation and\n",
    "its betterment. You will have a look at the data pulled out from the 1994 Census\n",
    "bureau database, and try to find insights into how various features have an effect on\n",
    "the income of an individual.\n",
    "The data contains approximately 32,000 observations with over 15 variables.\n",
    "The strategy is to analyze the data and perform a predictive task of classification to\n",
    "predict whether an individual makes over 50K a year or less by using a logistic\n",
    "regression algorithm.\n"
   ]
  },
  {
   "cell_type": "code",
   "execution_count": 1,
   "id": "6f5577c5",
   "metadata": {},
   "outputs": [
    {
     "data": {
      "text/html": [
       "<div>\n",
       "<style scoped>\n",
       "    .dataframe tbody tr th:only-of-type {\n",
       "        vertical-align: middle;\n",
       "    }\n",
       "\n",
       "    .dataframe tbody tr th {\n",
       "        vertical-align: top;\n",
       "    }\n",
       "\n",
       "    .dataframe thead th {\n",
       "        text-align: right;\n",
       "    }\n",
       "</style>\n",
       "<table border=\"1\" class=\"dataframe\">\n",
       "  <thead>\n",
       "    <tr style=\"text-align: right;\">\n",
       "      <th></th>\n",
       "      <th>age</th>\n",
       "      <th>workclass</th>\n",
       "      <th>fnlwgt</th>\n",
       "      <th>education</th>\n",
       "      <th>education-num</th>\n",
       "      <th>marital-status</th>\n",
       "      <th>occupation</th>\n",
       "      <th>relationship</th>\n",
       "      <th>race</th>\n",
       "      <th>sex</th>\n",
       "      <th>capital-gain</th>\n",
       "      <th>capital-loss</th>\n",
       "      <th>hours-per-week</th>\n",
       "      <th>native-country</th>\n",
       "      <th>annual_income</th>\n",
       "    </tr>\n",
       "  </thead>\n",
       "  <tbody>\n",
       "    <tr>\n",
       "      <th>0</th>\n",
       "      <td>39</td>\n",
       "      <td>State-gov</td>\n",
       "      <td>77516</td>\n",
       "      <td>Bachelors</td>\n",
       "      <td>13</td>\n",
       "      <td>Never-married</td>\n",
       "      <td>Adm-clerical</td>\n",
       "      <td>Not-in-family</td>\n",
       "      <td>White</td>\n",
       "      <td>Male</td>\n",
       "      <td>2174</td>\n",
       "      <td>0</td>\n",
       "      <td>40</td>\n",
       "      <td>United-States</td>\n",
       "      <td>&lt;=50K</td>\n",
       "    </tr>\n",
       "    <tr>\n",
       "      <th>1</th>\n",
       "      <td>50</td>\n",
       "      <td>Self-emp-not-inc</td>\n",
       "      <td>83311</td>\n",
       "      <td>Bachelors</td>\n",
       "      <td>13</td>\n",
       "      <td>Married-civ-spouse</td>\n",
       "      <td>Exec-managerial</td>\n",
       "      <td>Husband</td>\n",
       "      <td>White</td>\n",
       "      <td>Male</td>\n",
       "      <td>0</td>\n",
       "      <td>0</td>\n",
       "      <td>13</td>\n",
       "      <td>United-States</td>\n",
       "      <td>&lt;=50K</td>\n",
       "    </tr>\n",
       "    <tr>\n",
       "      <th>2</th>\n",
       "      <td>38</td>\n",
       "      <td>Private</td>\n",
       "      <td>215646</td>\n",
       "      <td>HS-grad</td>\n",
       "      <td>9</td>\n",
       "      <td>Divorced</td>\n",
       "      <td>Handlers-cleaners</td>\n",
       "      <td>Not-in-family</td>\n",
       "      <td>White</td>\n",
       "      <td>Male</td>\n",
       "      <td>0</td>\n",
       "      <td>0</td>\n",
       "      <td>40</td>\n",
       "      <td>United-States</td>\n",
       "      <td>&lt;=50K</td>\n",
       "    </tr>\n",
       "    <tr>\n",
       "      <th>3</th>\n",
       "      <td>53</td>\n",
       "      <td>Private</td>\n",
       "      <td>234721</td>\n",
       "      <td>11th</td>\n",
       "      <td>7</td>\n",
       "      <td>Married-civ-spouse</td>\n",
       "      <td>Handlers-cleaners</td>\n",
       "      <td>Husband</td>\n",
       "      <td>Black</td>\n",
       "      <td>Male</td>\n",
       "      <td>0</td>\n",
       "      <td>0</td>\n",
       "      <td>40</td>\n",
       "      <td>United-States</td>\n",
       "      <td>&lt;=50K</td>\n",
       "    </tr>\n",
       "    <tr>\n",
       "      <th>4</th>\n",
       "      <td>28</td>\n",
       "      <td>Private</td>\n",
       "      <td>338409</td>\n",
       "      <td>Bachelors</td>\n",
       "      <td>13</td>\n",
       "      <td>Married-civ-spouse</td>\n",
       "      <td>Prof-specialty</td>\n",
       "      <td>Wife</td>\n",
       "      <td>Black</td>\n",
       "      <td>Female</td>\n",
       "      <td>0</td>\n",
       "      <td>0</td>\n",
       "      <td>40</td>\n",
       "      <td>Cuba</td>\n",
       "      <td>&lt;=50K</td>\n",
       "    </tr>\n",
       "  </tbody>\n",
       "</table>\n",
       "</div>"
      ],
      "text/plain": [
       "   age         workclass  fnlwgt  education  education-num  \\\n",
       "0   39         State-gov   77516  Bachelors             13   \n",
       "1   50  Self-emp-not-inc   83311  Bachelors             13   \n",
       "2   38           Private  215646    HS-grad              9   \n",
       "3   53           Private  234721       11th              7   \n",
       "4   28           Private  338409  Bachelors             13   \n",
       "\n",
       "       marital-status         occupation   relationship   race     sex  \\\n",
       "0       Never-married       Adm-clerical  Not-in-family  White    Male   \n",
       "1  Married-civ-spouse    Exec-managerial        Husband  White    Male   \n",
       "2            Divorced  Handlers-cleaners  Not-in-family  White    Male   \n",
       "3  Married-civ-spouse  Handlers-cleaners        Husband  Black    Male   \n",
       "4  Married-civ-spouse     Prof-specialty           Wife  Black  Female   \n",
       "\n",
       "   capital-gain  capital-loss  hours-per-week native-country annual_income  \n",
       "0          2174             0              40  United-States         <=50K  \n",
       "1             0             0              13  United-States         <=50K  \n",
       "2             0             0              40  United-States         <=50K  \n",
       "3             0             0              40  United-States         <=50K  \n",
       "4             0             0              40           Cuba         <=50K  "
      ]
     },
     "execution_count": 1,
     "metadata": {},
     "output_type": "execute_result"
    }
   ],
   "source": [
    "import pandas as pd\n",
    "import seaborn as sns\n",
    "import matplotlib.pyplot as plt\n",
    "import warnings\n",
    "warnings.filterwarnings('ignore')\n",
    "\n",
    "df = pd.read_csv(r'P:\\\\DA DS AI\\\\IIT M Data Science & AI\\\\Assignments\\\\Logistics-Regression-Assignment\\\\census-income.csv')\n",
    "df.head(5)"
   ]
  },
  {
   "cell_type": "code",
   "execution_count": 2,
   "id": "d9e6843f",
   "metadata": {},
   "outputs": [
    {
     "name": "stdout",
     "output_type": "stream",
     "text": [
      "['Adm-clerical' 'Exec-managerial' 'Handlers-cleaners' 'Prof-specialty'\n",
      " 'Other-service' 'Sales' 'Craft-repair' 'Transport-moving'\n",
      " 'Farming-fishing' 'Machine-op-inspct' 'Tech-support' '?'\n",
      " 'Protective-serv' 'Armed-Forces' 'Priv-house-serv'] \n",
      "\n",
      "List of available occupations: 15 \n",
      "\n",
      "(Q1) Answer: c. 15\n"
     ]
    }
   ],
   "source": [
    "# 1. How many types of occupations do we have?\n",
    "# a. 13\n",
    "# b. 14\n",
    "# c. 15\n",
    "# d. 11\n",
    "\n",
    "print(df['occupation'].unique(), \"\\n\")\n",
    "print(\"List of available occupations:\", df['occupation'].nunique(), \"\\n\")\n",
    "print('(Q1) Answer: c. 15')"
   ]
  },
  {
   "cell_type": "code",
   "execution_count": 3,
   "id": "08fbf77c",
   "metadata": {},
   "outputs": [
    {
     "name": "stdout",
     "output_type": "stream",
     "text": [
      "283\n",
      "(Q2) Answer: 283, None of the above given values are correct\n"
     ]
    }
   ],
   "source": [
    "# 2. How many people are working as tech support and have an annual income greater than 50k?\n",
    "# a. 278\n",
    "# b. 389\n",
    "# c. 289\n",
    "# d. 934\n",
    "\n",
    "print(df[(df['occupation'] == 'Tech-support') & (df['annual_income'] == '>50K')].shape[0])\n",
    "print('(Q2) Answer: 283, None of the above given values are correct')"
   ]
  },
  {
   "cell_type": "code",
   "execution_count": 4,
   "id": "d348afdb",
   "metadata": {},
   "outputs": [
    {
     "name": "stdout",
     "output_type": "stream",
     "text": [
      "Count of Missing Values in each Column:\n",
      " age               0\n",
      "workclass         0\n",
      "fnlwgt            0\n",
      "education         0\n",
      "education-num     0\n",
      "marital-status    0\n",
      "occupation        0\n",
      "relationship      0\n",
      "race              0\n",
      "sex               0\n",
      "capital-gain      0\n",
      "capital-loss      0\n",
      "hours-per-week    0\n",
      "native-country    0\n",
      "annual_income     0\n",
      "dtype: int64 \n",
      "\n",
      "Sum of Null Values in each Column:\n",
      " age               0\n",
      "workclass         0\n",
      "fnlwgt            0\n",
      "education         0\n",
      "education-num     0\n",
      "marital-status    0\n",
      "occupation        0\n",
      "relationship      0\n",
      "race              0\n",
      "sex               0\n",
      "capital-gain      0\n",
      "capital-loss      0\n",
      "hours-per-week    0\n",
      "native-country    0\n",
      "annual_income     0\n",
      "dtype: int64 \n",
      "\n",
      "(Q3) Answer: 0 missing values, None of the above given values are correct\n"
     ]
    }
   ],
   "source": [
    "# 3. How many total missing values are present in the dataset?\n",
    "# a. 4262\n",
    "# b. 5000\n",
    "# c. 5349\n",
    "# d. 4302\n",
    "\n",
    "print(\"Count of Missing Values in each Column:\\n\", df[df.isna() == 'True'].count(), '\\n')\n",
    "print(\"Sum of Null Values in each Column:\\n\", df.isnull().sum(), '\\n')\n",
    "print('(Q3) Answer: 0 missing values, None of the above given values are correct')"
   ]
  },
  {
   "cell_type": "code",
   "execution_count": 5,
   "id": "bfb3432d",
   "metadata": {},
   "outputs": [
    {
     "name": "stdout",
     "output_type": "stream",
     "text": [
      "(Q4) Answer: c. Mode\n"
     ]
    }
   ],
   "source": [
    "# 4. If there are missing values in the Marital Status column, which option among the following should be \n",
    "# used for replacing the missing values:\n",
    "# a. Mean\n",
    "# b. Median\n",
    "# c. Mode\n",
    "# d. All of the above\n",
    "\n",
    "print('(Q4) Answer: c. Mode')"
   ]
  },
  {
   "cell_type": "code",
   "execution_count": 6,
   "id": "585b2aaf",
   "metadata": {},
   "outputs": [
    {
     "name": "stdout",
     "output_type": "stream",
     "text": [
      "2561\n",
      "(Q5) Answer: 2561, None of the above given values are correct\n"
     ]
    }
   ],
   "source": [
    "# 5. How many people are having private work classes and are not from the United States of America?\n",
    "# a. 2151\n",
    "# b. 2300\n",
    "# c. 2000\n",
    "# d. 2190\n",
    "\n",
    "print(df[(df['workclass'] == 'Private' ) & (df['native-country'] != 'United-States')].shape[0])\n",
    "print('(Q5) Answer: 2561, None of the above given values are correct')"
   ]
  },
  {
   "cell_type": "code",
   "execution_count": 7,
   "id": "d4f1ce00",
   "metadata": {},
   "outputs": [
    {
     "name": "stdout",
     "output_type": "stream",
     "text": [
      "31823\n",
      "(Q6) Answer: 31823, None of the above given values are correct\n"
     ]
    }
   ],
   "source": [
    "# 6. How many people are either having Annual Income(last column) less than or\n",
    "# equal to 50k or their working hours is greater than or equal to 40 hrs:\n",
    "# a. 23008\n",
    "# b. 23448\n",
    "# c. 29505\n",
    "# d. 25903\n",
    "\n",
    "print(df[(df['annual_income'] == '<=50K') | (df['hours-per-week'] >= 40)].shape[0])\n",
    "print('(Q6) Answer: 31823, None of the above given values are correct')"
   ]
  },
  {
   "cell_type": "code",
   "execution_count": 8,
   "id": "8f86e9d7",
   "metadata": {},
   "outputs": [
    {
     "name": "stdout",
     "output_type": "stream",
     "text": [
      "(Q7) Answer: c. Both of the above methods\n"
     ]
    }
   ],
   "source": [
    "# 7. Which of the following methods can you use for handling outliers?\n",
    "# a. Interquartile Range(IQR) Method\n",
    "# b. Z Score method\n",
    "# c. Both of the above methods\n",
    "# d. None of the above\n",
    "\n",
    "print('(Q7) Answer: c. Both of the above methods')"
   ]
  },
  {
   "cell_type": "code",
   "execution_count": 9,
   "id": "f46cc4f2",
   "metadata": {},
   "outputs": [
    {
     "name": "stdout",
     "output_type": "stream",
     "text": [
      "(Q8) Answer: c. both a and b\n"
     ]
    }
   ],
   "source": [
    "# 8. Chi-square is used to analyze:\n",
    "# a. Determine the relationship b/w the variables\n",
    "# b. Compare observed results with expected results\n",
    "# c. both a and b\n",
    "# d. None of the above\n",
    "\n",
    "print('(Q8) Answer: c. both a and b')"
   ]
  },
  {
   "cell_type": "code",
   "execution_count": 10,
   "id": "3ce8aa36",
   "metadata": {},
   "outputs": [
    {
     "name": "stdout",
     "output_type": "stream",
     "text": [
      "(Q9) Answer: a. It can detect multicollinearity\n",
      "VIF stands for Variance Inflation Factor\n",
      "The value for VIF starts at 1 and has no upper limit.\n",
      "A VIF of 1 indicates two variables are not correlated, a VIF between 1 and 5 indicates moderate correlation, and a VIF above 5 indicates high correlation.\n"
     ]
    }
   ],
   "source": [
    "# 9. What is VIF?\n",
    "# a. It can detect multicollinearity\n",
    "# b. If the VIF value is greater than 10, then there is no correlation between\n",
    "# the independent variables\n",
    "# c. It stands for Variance Impact Factor\n",
    "# d. VIF is when there is no correlation between one predictor and the other\n",
    "# predictors in a model.\n",
    "\n",
    "print('(Q9) Answer: a. It can detect multicollinearity')\n",
    "print('VIF stands for Variance Inflation Factor')\n",
    "print('The value for VIF starts at 1 and has no upper limit.')\n",
    "print('A VIF of 1 indicates two variables are not correlated, a VIF between 1 and 5 indicates moderate correlation, and a VIF above 5 indicates high correlation.')\n"
   ]
  },
  {
   "cell_type": "code",
   "execution_count": 11,
   "id": "58c2a504",
   "metadata": {},
   "outputs": [
    {
     "name": "stdout",
     "output_type": "stream",
     "text": [
      "(Q10) Answer: a. It will predict the class probabilities\n"
     ]
    }
   ],
   "source": [
    "# 10.What predict_proba will tell you?\n",
    "# a. It will predict the class probabilities\n",
    "# b. It will tell you the target value\n",
    "# c. Both are correct\n",
    "# d. None of the above\n",
    "\n",
    "print('(Q10) Answer: a. It will predict the class probabilities')"
   ]
  },
  {
   "cell_type": "code",
   "execution_count": 12,
   "id": "2a176f05",
   "metadata": {},
   "outputs": [
    {
     "name": "stdout",
     "output_type": "stream",
     "text": [
      "(Q11) Answer: b. False\n"
     ]
    }
   ],
   "source": [
    "# 11.Logistic regression is useful for regression problems:\n",
    "# a. True\n",
    "# b. False\n",
    "\n",
    "print('(Q11) Answer: b. False')"
   ]
  },
  {
   "cell_type": "code",
   "execution_count": 13,
   "id": "456238ad",
   "metadata": {},
   "outputs": [
    {
     "name": "stdout",
     "output_type": "stream",
     "text": [
      "(Q12) Answer: a. 0.5\n"
     ]
    }
   ],
   "source": [
    "# 12.In logistic regression, if the predicted logit is 0, what’s the\n",
    "# transformed probability?\n",
    "# a. 0.5\n",
    "# b. 0.05\n",
    "# c. Both of the above\n",
    "# d. None of the above\n",
    "\n",
    "print('(Q12) Answer: a. 0.5')"
   ]
  },
  {
   "cell_type": "code",
   "execution_count": 14,
   "id": "11804bd9",
   "metadata": {},
   "outputs": [
    {
     "name": "stdout",
     "output_type": "stream",
     "text": [
      "(Q13) Answer: a. Multiple Logistic regression\n"
     ]
    }
   ],
   "source": [
    "# 13.Which variant of logistic regression is recommended when you have\n",
    "# a categorical dependent variable with more than two values?\n",
    "# a. Multiple Logistic regression\n",
    "# b. Multinomial logistic regression\n",
    "# c. Ordered logit regression\n",
    "# d. Poisson regression\n",
    "\n",
    "print('(Q13) Answer: a. Multiple Logistic regression')"
   ]
  },
  {
   "cell_type": "code",
   "execution_count": 15,
   "id": "e4351d15",
   "metadata": {},
   "outputs": [
    {
     "name": "stdout",
     "output_type": "stream",
     "text": [
      "age                int64\n",
      "workclass         object\n",
      "fnlwgt             int64\n",
      "education         object\n",
      "education-num      int64\n",
      "marital-status    object\n",
      "occupation        object\n",
      "relationship      object\n",
      "race              object\n",
      "sex               object\n",
      "capital-gain       int64\n",
      "capital-loss       int64\n",
      "hours-per-week     int64\n",
      "native-country    object\n",
      "annual_income     object\n",
      "dtype: object\n",
      "<class 'pandas.core.frame.DataFrame'>\n",
      "RangeIndex: 32561 entries, 0 to 32560\n",
      "Data columns (total 15 columns):\n",
      " #   Column          Non-Null Count  Dtype \n",
      "---  ------          --------------  ----- \n",
      " 0   age             32561 non-null  int64 \n",
      " 1   workclass       32561 non-null  object\n",
      " 2   fnlwgt          32561 non-null  int64 \n",
      " 3   education       32561 non-null  object\n",
      " 4   education-num   32561 non-null  int64 \n",
      " 5   marital-status  32561 non-null  object\n",
      " 6   occupation      32561 non-null  object\n",
      " 7   relationship    32561 non-null  object\n",
      " 8   race            32561 non-null  object\n",
      " 9   sex             32561 non-null  object\n",
      " 10  capital-gain    32561 non-null  int64 \n",
      " 11  capital-loss    32561 non-null  int64 \n",
      " 12  hours-per-week  32561 non-null  int64 \n",
      " 13  native-country  32561 non-null  object\n",
      " 14  Annual Income   32561 non-null  object\n",
      "dtypes: int64(6), object(9)\n",
      "memory usage: 3.7+ MB\n",
      "None\n",
      "Currently there are no missing values to handle\n"
     ]
    }
   ],
   "source": [
    "# Perform the following tasks for answering the remaining questions\n",
    "print(df.dtypes)\n",
    "\n",
    "# ● Rename the last column as Annual Income\n",
    "df = df.rename(columns={'annual_income':'Annual Income'})\n",
    "\n",
    "# ● Remove the missing values from the dataset\n",
    "print(df.info())\n",
    "print('Currently there are no missing values to handle')\n"
   ]
  },
  {
   "cell_type": "code",
   "execution_count": 16,
   "id": "3d5e3ac1",
   "metadata": {},
   "outputs": [
    {
     "data": {
      "text/plain": [
       "['workclass',\n",
       " 'education',\n",
       " 'marital-status',\n",
       " 'occupation',\n",
       " 'relationship',\n",
       " 'race',\n",
       " 'sex',\n",
       " 'native-country']"
      ]
     },
     "execution_count": 16,
     "metadata": {},
     "output_type": "execute_result"
    }
   ],
   "source": [
    "#Below Code helps to remove the missing values\n",
    "\n",
    "col_list = []\n",
    "for col in df.columns:\n",
    "    if ((df[col].dtype == 'object') & (col != 'Annual Income')):\n",
    "        col_list.append(col)\n",
    "        \n",
    "col_list\n"
   ]
  },
  {
   "cell_type": "code",
   "execution_count": 17,
   "id": "d740acdf",
   "metadata": {},
   "outputs": [
    {
     "name": "stdout",
     "output_type": "stream",
     "text": [
      "<class 'pandas.core.frame.DataFrame'>\n",
      "RangeIndex: 32561 entries, 0 to 32560\n",
      "Data columns (total 15 columns):\n",
      " #   Column          Non-Null Count  Dtype\n",
      "---  ------          --------------  -----\n",
      " 0   age             32561 non-null  int64\n",
      " 1   workclass       32561 non-null  int32\n",
      " 2   fnlwgt          32561 non-null  int64\n",
      " 3   education       32561 non-null  int32\n",
      " 4   education-num   32561 non-null  int64\n",
      " 5   marital-status  32561 non-null  int32\n",
      " 6   occupation      32561 non-null  int32\n",
      " 7   relationship    32561 non-null  int32\n",
      " 8   race            32561 non-null  int32\n",
      " 9   sex             32561 non-null  int32\n",
      " 10  capital-gain    32561 non-null  int64\n",
      " 11  capital-loss    32561 non-null  int64\n",
      " 12  hours-per-week  32561 non-null  int64\n",
      " 13  native-country  32561 non-null  int32\n",
      " 14  Annual Income   32561 non-null  int32\n",
      "dtypes: int32(9), int64(6)\n",
      "memory usage: 2.6 MB\n",
      "None\n"
     ]
    }
   ],
   "source": [
    "import numpy as np\n",
    "\n",
    "# ● Change the labels of categorical data into numerical data using Label Encoder\n",
    "df['Annual Income'] = np.where(df['Annual Income'] == '>50K',1,0)\n",
    "\n",
    "from sklearn.preprocessing import LabelEncoder\n",
    "labelencoder = LabelEncoder()\n",
    "for i in col_list:\n",
    "        df[i]=labelencoder.fit_transform(df[i])\n",
    "        \n",
    "print(df.info())"
   ]
  },
  {
   "cell_type": "code",
   "execution_count": 18,
   "id": "ce2559ab",
   "metadata": {},
   "outputs": [
    {
     "name": "stdout",
     "output_type": "stream",
     "text": [
      "['age', 'workclass', 'fnlwgt', 'education', 'education-num', 'marital-status', 'occupation', 'relationship', 'race', 'sex', 'capital-gain', 'capital-loss', 'hours-per-week', 'native-country']\n",
      "0        0\n",
      "1        0\n",
      "2        0\n",
      "3        0\n",
      "4        0\n",
      "        ..\n",
      "32556    0\n",
      "32557    1\n",
      "32558    0\n",
      "32559    0\n",
      "32560    1\n",
      "Name: Annual Income, Length: 32561, dtype: int32\n",
      "             0         1\n",
      "0     0.777333  0.222667\n",
      "1     0.753687  0.246313\n",
      "2     0.805725  0.194275\n",
      "3     0.794332  0.205668\n",
      "4     0.656603  0.343397\n",
      "...        ...       ...\n",
      "9764  0.779321  0.220679\n",
      "9765  0.705936  0.294064\n",
      "9766  0.869441  0.130559\n",
      "9767  0.815651  0.184349\n",
      "9768  0.230062  0.769938\n",
      "\n",
      "[9769 rows x 2 columns]\n"
     ]
    }
   ],
   "source": [
    "# ● Split the dataset into a train and test of proportions 70:30 and set the random\n",
    "# state to 0.\n",
    "\n",
    "col_lst = list(df.columns)\n",
    "col_lst.remove('Annual Income')\n",
    "print(col_lst)\n",
    "df_X = df[col_lst]\n",
    "\n",
    "df_y = df['Annual Income']\n",
    "print(df_y)\n",
    "\n",
    "from sklearn.model_selection import train_test_split\n",
    "x_train, x_test, y_train, y_test = train_test_split(df_X, df_y, test_size=0.3, random_state=42)\n",
    "\n",
    "\n",
    "# ● Build a Logistic Regression Model on the data.\n",
    "from sklearn.linear_model import LogisticRegression\n",
    "lr = LogisticRegression()\n",
    "\n",
    "##### Model Fitting/Training\n",
    "lr.fit(x_train, y_train)\n",
    "\n",
    "test_pred = lr.predict(x_test)\n",
    "print(pd.DataFrame(lr.predict_proba(x_test)))\n"
   ]
  },
  {
   "cell_type": "code",
   "execution_count": 19,
   "id": "6080d865",
   "metadata": {},
   "outputs": [
    {
     "name": "stdout",
     "output_type": "stream",
     "text": [
      "Confusion Matrix: \n",
      "\n",
      "      0    1\n",
      "0  7232  223\n",
      "1  1697  617 \n",
      "\n",
      "Accuracy Score = 0.8034599242501791\n",
      "(Q14) Answer: c. 0.70 to 0.85\n"
     ]
    }
   ],
   "source": [
    "# Answer the following questions with the help of the above-created model.\n",
    "# 14.What is the accuracy score of the above model?\n",
    "# a. 0.60 to 0.70\n",
    "# b. 0.40 to 0.60\n",
    "# c. 0.70 to 0.85\n",
    "# d. None of the above\n",
    "\n",
    "from sklearn.metrics import confusion_matrix, accuracy_score\n",
    "c1 = confusion_matrix(y_test,test_pred)\n",
    "print('Confusion Matrix: \\n')\n",
    "cnfmtrx = pd.DataFrame(c1)\n",
    "print(cnfmtrx, '\\n')\n",
    "TN = cnfmtrx.iloc[0,0]\n",
    "FN = cnfmtrx.iloc[1,0]\n",
    "TP = cnfmtrx.iloc[1,1]\n",
    "FP = cnfmtrx.iloc[0,1]\n",
    "    \n",
    "print(\"Accuracy Score =\", accuracy_score(y_test,test_pred))\n",
    "print('(Q14) Answer: c. 0.70 to 0.85')"
   ]
  },
  {
   "cell_type": "code",
   "execution_count": 20,
   "id": "82684c38",
   "metadata": {},
   "outputs": [
    {
     "name": "stdout",
     "output_type": "stream",
     "text": [
      "Sensitivity =  0.9700871898054997\n",
      "Specificity =  0.266637856525497 \n",
      "\n",
      "(Q15) Answer: a. 0.20 to 0.30\n"
     ]
    }
   ],
   "source": [
    "# 15.What is the specificity of the above model?\n",
    "# a. 0.20 to 0.30\n",
    "# b. 0.30 to 0.40\n",
    "# c. 0.50 to 0.60\n",
    "# d. None of the above\n",
    "\n",
    "sen=c1[0,0]/(c1[0,0]+c1[0,1])\n",
    "print('Sensitivity = ',sen)\n",
    "\n",
    "sep=c1[1,1]/(c1[1,1]+c1[1,0])\n",
    "print('Specificity = ', sep, '\\n')\n",
    "\n",
    "print('(Q15) Answer: a. 0.20 to 0.30')"
   ]
  },
  {
   "cell_type": "code",
   "execution_count": 21,
   "id": "ad735865",
   "metadata": {},
   "outputs": [
    {
     "name": "stdout",
     "output_type": "stream",
     "text": [
      "Model’s precision = [0.80994512 0.73452381]\n",
      "Model’s precision when the target is False = 0.8099451226341136\n"
     ]
    }
   ],
   "source": [
    "# 16.What is the model’s precision when the target is False?\n",
    "# a. 0.60 to 0.70\n",
    "# b. 0.40 to 0.60\n",
    "# c. 0.70 to 0.80\n",
    "# d. None of the above\n",
    "\n",
    "from sklearn.metrics import precision_score\n",
    "print('Model’s precision =', precision_score(y_test, test_pred, average=None))\n",
    "\n",
    "PrecisionTargetFalse = (TN)/(FN +TN)\n",
    "print('Model’s precision when the target is False =', PrecisionTargetFalse)\n",
    "\n",
    "# False_negative_rate =(FN)/(FN+TP)\n",
    "   "
   ]
  },
  {
   "cell_type": "code",
   "execution_count": 22,
   "id": "52f107c0",
   "metadata": {},
   "outputs": [
    {
     "name": "stdout",
     "output_type": "stream",
     "text": [
      "              precision    recall  f1-score   support\n",
      "\n",
      "           0       0.81      0.97      0.88      7455\n",
      "           1       0.73      0.27      0.39      2314\n",
      "\n",
      "    accuracy                           0.80      9769\n",
      "   macro avg       0.77      0.62      0.64      9769\n",
      "weighted avg       0.79      0.80      0.77      9769\n",
      "\n",
      "Total support value from the above model =  9769\n"
     ]
    }
   ],
   "source": [
    "# 17.What is the total support value from the above model?\n",
    "# a. 9049\n",
    "# b. 9032\n",
    "# c. 10000\n",
    "# d. 9847\n",
    "from sklearn.metrics import classification_report\n",
    "print(classification_report(y_test, test_pred))\n",
    "\n",
    "print('Total support value from the above model = ', TP+TN+FP+FN)"
   ]
  },
  {
   "cell_type": "code",
   "execution_count": 23,
   "id": "beb1c906",
   "metadata": {},
   "outputs": [
    {
     "name": "stdout",
     "output_type": "stream",
     "text": [
      "f1 score of the above model when the target is True = 0.39124920735573876 \n",
      "\n",
      "(Q18) Answer: a. 0.30 to 0.40\n"
     ]
    }
   ],
   "source": [
    "# 18.What is the f1 score of the above model when the target is True?\n",
    "# a. 0.30 to 0.40\n",
    "# b. 0.40 to 0.50\n",
    "# c. 0.60 to 0.70\n",
    "# d. 0.90 to 0.99\n",
    "\n",
    "precision = (TP)/(TP+FP)\n",
    "\n",
    "recall_score  = (TP)/(TP+FN)\n",
    "\n",
    "f1_score = 2*(( precision * recall_score)/( precision + recall_score))\n",
    "\n",
    "print('f1 score of the above model when the target is True =', f1_score, '\\n')\n",
    "\n",
    "print('(Q18) Answer: a. 0.30 to 0.40')"
   ]
  },
  {
   "cell_type": "code",
   "execution_count": 24,
   "id": "3f3455f9",
   "metadata": {},
   "outputs": [
    {
     "name": "stdout",
     "output_type": "stream",
     "text": [
      "Number of records correctly classified : 617\n"
     ]
    }
   ],
   "source": [
    "# 19.How many records are correctly classified by the model?\n",
    "# a. 7173\n",
    "# b. 7043\n",
    "# c. 7000\n",
    "# d. None of the above\n",
    "print('Number of records correctly classified :', TP)"
   ]
  },
  {
   "cell_type": "code",
   "execution_count": null,
   "id": "38048cbd",
   "metadata": {},
   "outputs": [],
   "source": []
  }
 ],
 "metadata": {
  "kernelspec": {
   "display_name": "Python 3 (ipykernel)",
   "language": "python",
   "name": "python3"
  },
  "language_info": {
   "codemirror_mode": {
    "name": "ipython",
    "version": 3
   },
   "file_extension": ".py",
   "mimetype": "text/x-python",
   "name": "python",
   "nbconvert_exporter": "python",
   "pygments_lexer": "ipython3",
   "version": "3.11.5"
  }
 },
 "nbformat": 4,
 "nbformat_minor": 5
}
